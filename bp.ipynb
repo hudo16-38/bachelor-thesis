{
 "cells": [
  {
   "cell_type": "markdown",
   "id": "1b4f218a-f927-414e-92f8-cff5621f974f",
   "metadata": {},
   "source": [
    "# Vizualizácie k bakalárskej práci\n"
   ]
  },
  {
   "cell_type": "code",
   "execution_count": 2,
   "id": "9725f0ce-5512-42c4-b530-36e1a6d18074",
   "metadata": {},
   "outputs": [],
   "source": [
    "import pandas as pd"
   ]
  },
  {
   "cell_type": "code",
   "execution_count": 3,
   "id": "d5699717-e687-42c9-a208-c811ebc1c490",
   "metadata": {},
   "outputs": [
    {
     "data": {
      "text/html": [
       "<div>\n",
       "<style scoped>\n",
       "    .dataframe tbody tr th:only-of-type {\n",
       "        vertical-align: middle;\n",
       "    }\n",
       "\n",
       "    .dataframe tbody tr th {\n",
       "        vertical-align: top;\n",
       "    }\n",
       "\n",
       "    .dataframe thead th {\n",
       "        text-align: right;\n",
       "    }\n",
       "</style>\n",
       "<table border=\"1\" class=\"dataframe\">\n",
       "  <thead>\n",
       "    <tr style=\"text-align: right;\">\n",
       "      <th></th>\n",
       "      <th>flexibilta</th>\n",
       "      <th>predmety</th>\n",
       "      <th>ucitelia_pristup</th>\n",
       "      <th>ucitelia_vyucba</th>\n",
       "      <th>hodnotenie</th>\n",
       "      <th>zrucnosti</th>\n",
       "      <th>podpora_studentov</th>\n",
       "    </tr>\n",
       "  </thead>\n",
       "  <tbody>\n",
       "    <tr>\n",
       "      <th>H</th>\n",
       "      <td>0.359</td>\n",
       "      <td>0.254</td>\n",
       "      <td>0.362</td>\n",
       "      <td>0.442</td>\n",
       "      <td>0.315</td>\n",
       "      <td>0.437</td>\n",
       "      <td>0.304</td>\n",
       "    </tr>\n",
       "  </tbody>\n",
       "</table>\n",
       "</div>"
      ],
      "text/plain": [
       "   flexibilta  predmety  ucitelia_pristup  ucitelia_vyucba  hodnotenie  \\\n",
       "H       0.359     0.254             0.362            0.442       0.315   \n",
       "\n",
       "   zrucnosti  podpora_studentov  \n",
       "H      0.437              0.304  "
      ]
     },
     "metadata": {},
     "output_type": "display_data"
    }
   ],
   "source": [
    "df = pd.DataFrame({\"flexibilta\":[0.359], \"predmety\":[0.254], \"ucitelia_vyucba\":[0.362 ], \"ucitelia_pristup\":[0.442],\n",
    "                \"hodnotenie\":[0.315],  \"zrucnosti\":[0.437], \"podpora_studentov\":[0.304]}, index=[\"H\"])\n",
    "display(df)"
   ]
  },
  {
   "cell_type": "markdown",
   "id": "b0292c1b-d124-40ea-9626-073ee42c28d2",
   "metadata": {},
   "source": [
    "* predmety majú problém"
   ]
  },
  {
   "cell_type": "code",
   "execution_count": 14,
   "id": "10aa4f34-7f87-42cd-9613-cf5703a9cc28",
   "metadata": {},
   "outputs": [
    {
     "data": {
      "text/html": [
       "<div>\n",
       "<style scoped>\n",
       "    .dataframe tbody tr th:only-of-type {\n",
       "        vertical-align: middle;\n",
       "    }\n",
       "\n",
       "    .dataframe tbody tr th {\n",
       "        vertical-align: top;\n",
       "    }\n",
       "\n",
       "    .dataframe thead th {\n",
       "        text-align: right;\n",
       "    }\n",
       "</style>\n",
       "<table border=\"1\" class=\"dataframe\">\n",
       "  <thead>\n",
       "    <tr style=\"text-align: right;\">\n",
       "      <th></th>\n",
       "      <th>flexibilita</th>\n",
       "      <th>predmety</th>\n",
       "      <th>ucitelia_vyucba</th>\n",
       "      <th>ucitelia_pristup</th>\n",
       "      <th>hodnotenie</th>\n",
       "      <th>zrucnosti</th>\n",
       "      <th>podpora</th>\n",
       "    </tr>\n",
       "  </thead>\n",
       "  <tbody>\n",
       "    <tr>\n",
       "      <th>H1</th>\n",
       "      <td>0.357</td>\n",
       "      <td>0.263</td>\n",
       "      <td>0.527</td>\n",
       "      <td>0.404</td>\n",
       "      <td>0.345</td>\n",
       "      <td>0.464</td>\n",
       "      <td>0.343</td>\n",
       "    </tr>\n",
       "    <tr>\n",
       "      <th>H2</th>\n",
       "      <td>0.354</td>\n",
       "      <td>0.297</td>\n",
       "      <td>0.374</td>\n",
       "      <td>0.254</td>\n",
       "      <td>0.284</td>\n",
       "      <td>0.494</td>\n",
       "      <td>0.301</td>\n",
       "    </tr>\n",
       "    <tr>\n",
       "      <th>H3</th>\n",
       "      <td>0.31</td>\n",
       "      <td>0.284</td>\n",
       "      <td>0.487</td>\n",
       "      <td>0.417</td>\n",
       "      <td>0.228</td>\n",
       "      <td>0.43</td>\n",
       "      <td>0.317</td>\n",
       "    </tr>\n",
       "    <tr>\n",
       "      <th>H4</th>\n",
       "      <td>0.403</td>\n",
       "      <td>0.249</td>\n",
       "      <td>0.478</td>\n",
       "      <td>0.369</td>\n",
       "      <td>0.346</td>\n",
       "      <td>0.472</td>\n",
       "      <td>0.263</td>\n",
       "    </tr>\n",
       "    <tr>\n",
       "      <th>H5</th>\n",
       "      <td>0.376</td>\n",
       "      <td>0.189</td>\n",
       "      <td>0.379</td>\n",
       "      <td>0.356</td>\n",
       "      <td>0.381</td>\n",
       "      <td>0.296</td>\n",
       "      <td>0.288</td>\n",
       "    </tr>\n",
       "    <tr>\n",
       "      <th>H6</th>\n",
       "      <td>NA</td>\n",
       "      <td>0.255</td>\n",
       "      <td>0.487</td>\n",
       "      <td>0.329</td>\n",
       "      <td>NA</td>\n",
       "      <td>0.482</td>\n",
       "      <td>NA</td>\n",
       "    </tr>\n",
       "    <tr>\n",
       "      <th>H7</th>\n",
       "      <td>NA</td>\n",
       "      <td>0.260</td>\n",
       "      <td>0.333</td>\n",
       "      <td>0.423</td>\n",
       "      <td>NA</td>\n",
       "      <td>NA</td>\n",
       "      <td>NA</td>\n",
       "    </tr>\n",
       "  </tbody>\n",
       "</table>\n",
       "</div>"
      ],
      "text/plain": [
       "   flexibilita  predmety  ucitelia_vyucba  ucitelia_pristup hodnotenie  \\\n",
       "H1       0.357     0.263            0.527             0.404      0.345   \n",
       "H2       0.354     0.297            0.374             0.254      0.284   \n",
       "H3        0.31     0.284            0.487             0.417      0.228   \n",
       "H4       0.403     0.249            0.478             0.369      0.346   \n",
       "H5       0.376     0.189            0.379             0.356      0.381   \n",
       "H6          NA     0.255            0.487             0.329         NA   \n",
       "H7          NA     0.260            0.333             0.423         NA   \n",
       "\n",
       "   zrucnosti podpora  \n",
       "H1     0.464   0.343  \n",
       "H2     0.494   0.301  \n",
       "H3      0.43   0.317  \n",
       "H4     0.472   0.263  \n",
       "H5     0.296   0.288  \n",
       "H6     0.482      NA  \n",
       "H7        NA      NA  "
      ]
     },
     "metadata": {},
     "output_type": "display_data"
    }
   ],
   "source": [
    "individual_scale = pd.DataFrame({\"flexibilita\":[0.357, 0.354 , 0.310, 0.403, 0.376, \"NA\", \"NA\"], \"predmety\":[0.263, 0.297, 0.284, 0.249, 0.189, 0.255, 0.260],\n",
    "                                \"ucitelia_vyucba\":[0.527, 0.374, 0.487, 0.478, 0.379, 0.487, 0.333],\n",
    "                                \"ucitelia_pristup\":[0.404, 0.254, 0.417, 0.369, 0.356, 0.329, 0.423],\n",
    "                                \"hodnotenie\":[0.345, 0.284, 0.228, 0.346, 0.381, \"NA\", \"NA\"],\n",
    "                                \"zrucnosti\":[0.464, 0.494, 0.430, 0.472, 0.296, 0.482, \"NA\"],\n",
    "                                \"podpora\":[0.343, 0.301, 0.317, 0.263, 0.288, \"NA\", \"NA\"]},\n",
    "                                index=\"H1,H2,H3,H4,H5,H6,H7\".split(\",\")) \n",
    "display(individual_scale)"
   ]
  },
  {
   "cell_type": "markdown",
   "id": "6e51d659-ecef-4658-b991-129405777f61",
   "metadata": {},
   "source": [
    "0.343\n",
    "0.301\n",
    "0.317\n",
    "0.263\n",
    "0.288"
   ]
  }
 ],
 "metadata": {
  "kernelspec": {
   "display_name": "Python 3 (ipykernel)",
   "language": "python",
   "name": "python3"
  },
  "language_info": {
   "codemirror_mode": {
    "name": "ipython",
    "version": 3
   },
   "file_extension": ".py",
   "mimetype": "text/x-python",
   "name": "python",
   "nbconvert_exporter": "python",
   "pygments_lexer": "ipython3",
   "version": "3.9.13"
  }
 },
 "nbformat": 4,
 "nbformat_minor": 5
}
